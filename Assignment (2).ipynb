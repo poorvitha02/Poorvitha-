{
  "nbformat": 4,
  "nbformat_minor": 0,
  "metadata": {
    "colab": {
      "provenance": [],
      "authorship_tag": "ABX9TyNP0xdS1ynbDNf+26GtaagZ",
      "include_colab_link": true
    },
    "kernelspec": {
      "name": "python3",
      "display_name": "Python 3"
    },
    "language_info": {
      "name": "python"
    }
  },
  "cells": [
    {
      "cell_type": "markdown",
      "metadata": {
        "id": "view-in-github",
        "colab_type": "text"
      },
      "source": [
        "<a href=\"https://colab.research.google.com/github/poorvitha02/Poorvitha-/blob/main/Assignment%20(2).ipynb\" target=\"_parent\"><img src=\"https://colab.research.google.com/assets/colab-badge.svg\" alt=\"Open In Colab\"/></a>"
      ]
    },
    {
      "cell_type": "code",
      "execution_count": 1,
      "metadata": {
        "colab": {
          "base_uri": "https://localhost:8080/"
        },
        "id": "O40bBckQOJ9d",
        "outputId": "c8419514-1ff3-45a2-f22a-526d4cf12eba"
      },
      "outputs": [
        {
          "output_type": "stream",
          "name": "stdout",
          "text": [
            "Matrix A:\n",
            " [[1 2]\n",
            " [3 4]]\n",
            "Matrix B:\n",
            " [[5 6]\n",
            " [7 8]]\n",
            "A x B =\n",
            " [[19 22]\n",
            " [43 50]]\n"
          ]
        }
      ],
      "source": [
        "import numpy as np\n",
        "\n",
        "def matrix_multiply(A, B):\n",
        "    \"\"\"\n",
        "    Perform matrix multiplication using numpy.\n",
        "\n",
        "    Args:\n",
        "        A (np.ndarray): First matrix of shape (m, n)\n",
        "        B (np.ndarray): Second matrix of shape (n, p)\n",
        "\n",
        "    Returns:\n",
        "        np.ndarray: Resulting matrix of shape (m, p)\n",
        "    \"\"\"\n",
        "    # Check if shapes are compatible\n",
        "    if A.shape[1] != B.shape[0]:\n",
        "        raise ValueError(\"Incompatible dimensions: A's columns must match B's rows\")\n",
        "\n",
        "    # Perform matrix multiplication\n",
        "    result = np.dot(A, B)\n",
        "    return result\n",
        " # Define two matrices\n",
        "A = np.array([[1, 2],\n",
        "              [3, 4]])\n",
        "\n",
        "B = np.array([[5, 6],\n",
        "              [7, 8]])\n",
        "\n",
        "# Call the function\n",
        "C = matrix_multiply(A, B)\n",
        "\n",
        "print(\"Matrix A:\\n\", A)\n",
        "print(\"Matrix B:\\n\", B)\n",
        "print(\"A x B =\\n\", C)"
      ]
    },
    {
      "cell_type": "code",
      "source": [
        "import pandas as pd\n",
        "\n",
        "# Sample data\n",
        "data = {\n",
        "    'Age': [20, 25, 30, 35, 40],\n",
        "    'Salary': [30000, 40000, 50000, 60000, 70000]\n",
        "}\n",
        "\n",
        "df = pd.DataFrame(data)\n",
        "print(\"Original Data:\\n\", df)\n",
        "\n",
        "# Min-Max Scaling\n",
        "min_max_scaled = (df - df.min()) / (df.max() - df.min())\n",
        "print(\"\\nMin-Max Scaled Data:\\n\", min_max_scaled)\n",
        "\n",
        "# Standardization\n",
        "standardized = (df - df.mean()) / df.std()\n",
        "print(\"\\nStandardized Data:\\n\", standardized)"
      ],
      "metadata": {
        "colab": {
          "base_uri": "https://localhost:8080/"
        },
        "id": "6rpCobLbORk6",
        "outputId": "ff03ec90-6161-44af-f469-16ad9ed61ddf"
      },
      "execution_count": 2,
      "outputs": [
        {
          "output_type": "stream",
          "name": "stdout",
          "text": [
            "Original Data:\n",
            "    Age  Salary\n",
            "0   20   30000\n",
            "1   25   40000\n",
            "2   30   50000\n",
            "3   35   60000\n",
            "4   40   70000\n",
            "\n",
            "Min-Max Scaled Data:\n",
            "     Age  Salary\n",
            "0  0.00    0.00\n",
            "1  0.25    0.25\n",
            "2  0.50    0.50\n",
            "3  0.75    0.75\n",
            "4  1.00    1.00\n",
            "\n",
            "Standardized Data:\n",
            "         Age    Salary\n",
            "0 -1.264911 -1.264911\n",
            "1 -0.632456 -0.632456\n",
            "2  0.000000  0.000000\n",
            "3  0.632456  0.632456\n",
            "4  1.264911  1.264911\n"
          ]
        }
      ]
    }
  ]
}