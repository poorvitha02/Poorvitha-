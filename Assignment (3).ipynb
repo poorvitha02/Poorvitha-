{
  "nbformat": 4,
  "nbformat_minor": 0,
  "metadata": {
    "colab": {
      "provenance": [],
      "authorship_tag": "ABX9TyPFDvI4w+Qk1ZMOqWb9kAWt",
      "include_colab_link": true
    },
    "kernelspec": {
      "name": "python3",
      "display_name": "Python 3"
    },
    "language_info": {
      "name": "python"
    }
  },
  "cells": [
    {
      "cell_type": "markdown",
      "metadata": {
        "id": "view-in-github",
        "colab_type": "text"
      },
      "source": [
        "<a href=\"https://colab.research.google.com/github/poorvitha02/Poorvitha-/blob/main/Assignment%20(3).ipynb\" target=\"_parent\"><img src=\"https://colab.research.google.com/assets/colab-badge.svg\" alt=\"Open In Colab\"/></a>"
      ]
    },
    {
      "cell_type": "code",
      "source": [
        "# Part 1: Probability of heads and tails\n",
        "total_flips = 100\n",
        "heads = 60\n",
        "tails = 40\n",
        "\n",
        "p_heads = heads / total_flips\n",
        "p_tails = tails / total_flips\n",
        "\n",
        "print(\"Probability of Heads:\", p_heads)\n",
        "print(\"Probability of Tails:\", p_tails)\n",
        "\n",
        "# Part 2: Bayes’ Theorem Example\n",
        "# Given:\n",
        "# P(Disease) = 0.01\n",
        "# P(Positive | Disease) = 0.99\n",
        "# P(Positive | No Disease) = 0.05\n",
        "\n",
        "p_disease = 0.01\n",
        "p_positive_given_disease = 0.99\n",
        "p_positive_given_no_disease = 0.05\n",
        "p_no_disease = 1 - p_disease\n",
        "\n",
        "# Bayes' Theorem\n",
        "p_positive = (p_positive_given_disease * p_disease) + \\\n",
        "             (p_positive_given_no_disease * p_no_disease)\n",
        "\n",
        "p_disease_given_positive = (p_positive_given_disease * p_disease) / p_positive\n",
        "\n",
        "print(\"Probability of having disease given positive test:\", p_disease_given_positive)"
      ],
      "metadata": {
        "colab": {
          "base_uri": "https://localhost:8080/"
        },
        "id": "jA8d52ehO7tz",
        "outputId": "ab360d6f-6e2f-4f67-fe54-6a86e222c611"
      },
      "execution_count": 3,
      "outputs": [
        {
          "output_type": "stream",
          "name": "stdout",
          "text": [
            "Probability of Heads: 0.6\n",
            "Probability of Tails: 0.4\n",
            "Probability of having disease given positive test: 0.16666666666666669\n"
          ]
        }
      ]
    },
    {
      "cell_type": "code",
      "source": [
        "\n",
        "\n",
        "# Define the polynomial function f(x) = 3x^2 + 2x - 5\n",
        "def f(x):\n",
        "    return 3 * x**2 + 2 * x - 5\n",
        "\n",
        "# Define the derivative f'(x) = d/dx of f(x)\n",
        "def f_derivative(x):\n",
        "    return 6 * x + 2\n",
        "\n",
        "# Choose a point to evaluate (e.g., x = 1)\n",
        "x = 1\n",
        "print(\"Original x value:\", x)\n",
        "print(\"f(x) at x =\", x, \":\", f(x))\n",
        "print(\"f'(x) at x =\", x, \":\", f_derivative(x))\n",
        "\n",
        "# Gradient Descent Step\n",
        "# Gradient descent formula: x_new = x - learning_rate * f'(x)\n",
        "learning_rate = 0.1\n",
        "gradient = f_derivative(x)\n",
        "x_new = x - learning_rate * gradient\n",
        "\n",
        "print(\"Updated x after one gradient descent step:\", x_new)\n",
        "print(\"f(x) at new x =\", x_new, \":\", f(x_new))"
      ],
      "metadata": {
        "colab": {
          "base_uri": "https://localhost:8080/"
        },
        "id": "0kihJf9OO_cH",
        "outputId": "125a6408-f536-464a-d7c0-c90b2963af5a"
      },
      "execution_count": 4,
      "outputs": [
        {
          "output_type": "stream",
          "name": "stdout",
          "text": [
            "Original x value: 1\n",
            "f(x) at x = 1 : 0\n",
            "f'(x) at x = 1 : 8\n",
            "Updated x after one gradient descent step: 0.19999999999999996\n",
            "f(x) at new x = 0.19999999999999996 : -4.48\n"
          ]
        }
      ]
    }
  ]
}